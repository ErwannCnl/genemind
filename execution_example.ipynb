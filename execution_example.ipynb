{
 "cells": [
  {
   "cell_type": "code",
   "execution_count": 3,
   "id": "6f860d40",
   "metadata": {},
   "outputs": [],
   "source": [
    "from pydantic import BaseModel, Field\n",
    "from dotenv import load_dotenv\n",
    "import os\n",
    "\n",
    "# Load environment variables from .env file\n",
    "load_dotenv()\n",
    "GOOGLE_API_KEY = os.getenv(\"GOOGLE_API_KEY\")"
   ]
  },
  {
   "cell_type": "code",
   "execution_count": 4,
   "id": "e9d6d903",
   "metadata": {},
   "outputs": [
    {
     "name": "stdout",
     "output_type": "stream",
     "text": [
      "{\n",
      "  \"genes\": [\n",
      "    \"TP53\",\n",
      "    \"AKT3\",\n",
      "    \"EGFR\",\n",
      "    \"ATRX\",\n",
      "    \"PDX1\"\n",
      "  ],\n",
      "  \"organism\": \"Homo sapiens\",\n",
      "  \"field_of_study\": \"oncology\",\n",
      "  \"organ\": \"brain\",\n",
      "  \"analysis_type\": \"mutation enrichment\"\n",
      "}\n"
     ]
    }
   ],
   "source": [
    "from typing import List, Optional\n",
    "from langchain_core.output_parsers import PydanticOutputParser\n",
    "from langchain_core.prompts import ChatPromptTemplate\n",
    "\n",
    "from langchain.chat_models import init_chat_model\n",
    "\n",
    "# Initialise LLM (Gemini 2.5)\n",
    "llm = init_chat_model(\n",
    "    model=\"gemini-2.5-flash\",\n",
    "    model_provider=\"google_genai\",\n",
    "    temperature=0.0\n",
    ")\n",
    "\n",
    "# Canonical user input\n",
    "paragraph = (\n",
    "    \"I identified these five genes to be significantly more mutated than expected by chance in my cohort of human brain cancer patients: TP53, AKT3, EGFR, ATRX and PDX1.\"\n",
    ")\n",
    "\n",
    "# Define Pydantic class for input genes and context\n",
    "class StudyExtraction(BaseModel):\n",
    "    genes: List[str] = Field(\n",
    "        description=\"List of gene symbols mentioned in the text, normalized to official HGNC/NCBI-style symbols if possible.\"\n",
    "    )\n",
    "    organism: Optional[str] = Field(\n",
    "        description=\"Scientific name (binomial) of the organism (e.g., 'Homo sapiens', 'Mus musculus').\"\n",
    "    )\n",
    "    field_of_study: Optional[str] = Field(\n",
    "        description=\"High-level biomedical domain, e.g., 'oncology', 'cancer genomics', 'neuroscience', 'immunology', 'microbiology'.\"\n",
    "    )\n",
    "    organ: Optional[str] = Field(\n",
    "        description=\"Primary organ or tissue referenced (e.g., 'brain', 'liver', 'blood').\"\n",
    "    )\n",
    "    analysis_type: Optional[str] = Field(\n",
    "        description=\"Concise description of the analysis performed, e.g., 'differential expression', 'mutation enrichment', 'GWAS', 'copy-number analysis', 'metagenomic profiling'.\"\n",
    "    )\n",
    "\n",
    "#alternative implementation to parse as pydantic more robustly\n",
    "parser = PydanticOutputParser(pydantic_object=StudyExtraction)\n",
    "format_instructions = parser.get_format_instructions()\n",
    "\n",
    "prompt = ChatPromptTemplate.from_messages([\n",
    "    (\"system\", \"Extract per schema:\\n{format_instructions}\"),\n",
    "    (\"human\", \"{paragraph}\"),\n",
    "]).partial(format_instructions=format_instructions)\n",
    "parsing_llm = prompt | llm | parser\n",
    "\n",
    "# pass raw user input \"paragraph\"\n",
    "parsed_input = parsing_llm.invoke({\"paragraph\": paragraph})\n",
    "#convert to JSON string\n",
    "json_output = parsed_input.model_dump_json(indent=2)\n",
    "print(json_output)\n",
    "\n",
    "#next step - inject the json to the LLM to determine attributes to fetch from BioMart\n"
   ]
  },
  {
   "cell_type": "code",
   "execution_count": null,
   "id": "f0e73c7e",
   "metadata": {},
   "outputs": [],
   "source": [
    "from src.querries_script import call_querry_biomart, group_by_gene_dynamic, fill_with_ncbi\n",
    "import pandas as pd    \n",
    "\n",
    "attributes = pd.read_csv(\"data/attributes.csv\")[\"name\"].to_list()\n",
    "\n",
    "output = call_querry_biomart(attributes=attributes,\n",
    "                            filters={\"external_gene_name\": [\"TLR4\", \"NOTCH1\", \"TP53\", \"IL1B\"]})\n",
    "\n",
    "output = group_by_gene_dynamic(output)\n",
    "\n",
    "output = fill_with_ncbi(output)\n",
    "\n",
    "print(output)"
   ]
  }
 ],
 "metadata": {
  "kernelspec": {
   "display_name": "genemind",
   "language": "python",
   "name": "python3"
  },
  "language_info": {
   "codemirror_mode": {
    "name": "ipython",
    "version": 3
   },
   "file_extension": ".py",
   "mimetype": "text/x-python",
   "name": "python",
   "nbconvert_exporter": "python",
   "pygments_lexer": "ipython3",
   "version": "3.11.13"
  }
 },
 "nbformat": 4,
 "nbformat_minor": 5
}
