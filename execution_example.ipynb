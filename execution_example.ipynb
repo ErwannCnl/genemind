{
 "cells": [
  {
   "cell_type": "code",
   "execution_count": 3,
   "id": "6f860d40",
   "metadata": {},
   "outputs": [],
   "source": [
    "from pydantic import BaseModel, Field\n",
    "from dotenv import load_dotenv\n",
    "import os\n",
    "\n",
    "# Load environment variables from .env file\n",
    "load_dotenv()\n",
    "GOOGLE_API_KEY = os.getenv(\"GOOGLE_API_KEY\")"
   ]
  },
  {
   "cell_type": "code",
   "execution_count": 4,
   "id": "e9d6d903",
   "metadata": {},
   "outputs": [
    {
     "name": "stdout",
     "output_type": "stream",
     "text": [
      "{\n",
      "  \"genes\": [\n",
      "    \"TP53\",\n",
      "    \"AKT3\",\n",
      "    \"EGFR\",\n",
      "    \"ATRX\",\n",
      "    \"PDX1\"\n",
      "  ],\n",
      "  \"organism\": \"Homo sapiens\",\n",
      "  \"field_of_study\": \"oncology\",\n",
      "  \"organ\": \"brain\",\n",
      "  \"analysis_type\": \"mutation enrichment\"\n",
      "}\n"
     ]
    }
   ],
   "source": [
    "from typing import List, Optional\n",
    "from langchain_core.output_parsers import PydanticOutputParser\n",
    "from langchain_core.prompts import ChatPromptTemplate\n",
    "\n",
    "from langchain.chat_models import init_chat_model\n",
    "\n",
    "# Initialise LLM (Gemini 2.5)\n",
    "llm = init_chat_model(\n",
    "    model=\"gemini-2.5-flash\",\n",
    "    model_provider=\"google_genai\",\n",
    "    temperature=0.0\n",
    ")\n",
    "\n",
    "# Canonical user input\n",
    "paragraph = (\n",
    "    \"I identified these five genes to be significantly more mutated than expected by chance in my cohort of human brain cancer patients: TP53, AKT3, EGFR, ATRX and PDX1.\"\n",
    ")\n",
    "\n",
    "# Define Pydantic class for input genes and context\n",
    "class StudyExtraction(BaseModel):\n",
    "    genes: List[str] = Field(\n",
    "        description=\"List of gene symbols mentioned in the text, normalized to official HGNC/NCBI-style symbols if possible.\"\n",
    "    )\n",
    "    organism: Optional[str] = Field(\n",
    "        description=\"Scientific name (binomial) of the organism (e.g., 'Homo sapiens', 'Mus musculus').\"\n",
    "    )\n",
    "    field_of_study: Optional[str] = Field(\n",
    "        description=\"High-level biomedical domain, e.g., 'oncology', 'cancer genomics', 'neuroscience', 'immunology', 'microbiology'.\"\n",
    "    )\n",
    "    organ: Optional[str] = Field(\n",
    "        description=\"Primary organ or tissue referenced (e.g., 'brain', 'liver', 'blood').\"\n",
    "    )\n",
    "    analysis_type: Optional[str] = Field(\n",
    "        description=\"Concise description of the analysis performed, e.g., 'differential expression', 'mutation enrichment', 'GWAS', 'copy-number analysis', 'metagenomic profiling'.\"\n",
    "    )\n",
    "\n",
    "#alternative implementation to parse as pydantic more robustly\n",
    "parser = PydanticOutputParser(pydantic_object=StudyExtraction)\n",
    "format_instructions = parser.get_format_instructions()\n",
    "\n",
    "prompt = ChatPromptTemplate.from_messages([\n",
    "    (\"system\", \"Extract per schema:\\n{format_instructions}\"),\n",
    "    (\"human\", \"{paragraph}\"),\n",
    "]).partial(format_instructions=format_instructions)\n",
    "parsing_llm = prompt | llm | parser\n",
    "\n",
    "# pass raw user input \"paragraph\"\n",
    "parsed_input = parsing_llm.invoke({\"paragraph\": paragraph})\n",
    "#convert to JSON string\n",
    "json_output = parsed_input.model_dump_json(indent=2)\n",
    "print(json_output)\n",
    "\n",
    "#next step - inject the json to the LLM to determine attributes to fetch from BioMart\n"
   ]
  },
  {
   "cell_type": "code",
   "execution_count": 1,
   "id": "716e1d6e",
   "metadata": {},
   "outputs": [
    {
     "name": "stdout",
     "output_type": "stream",
     "text": [
      "<class 'list'>\n",
      "4\n"
     ]
    }
   ],
   "source": [
    "from src.querries_script import call_querry_biomart\n",
    "\n",
    "output = call_querry_biomart(attributes=[\"ensembl_gene_id\",\n",
    "                                \"external_gene_name\",\n",
    "                                \"transcript_count\",\n",
    "                                \"percentage_gene_gc_content\",\n",
    "                                \"gene_biotype\",\n",
    "                            ],\n",
    "                    filters={\"external_gene_name\": [\"TLR4\", \"NOTCH1\", \"TP53\", \"IL1B\"]})\n",
    "    \n",
    "print(type(output))\n",
    "print(len(output))"
   ]
  },
  {
   "cell_type": "code",
   "execution_count": null,
   "id": "086faa01",
   "metadata": {},
   "outputs": [],
   "source": [
    "list = [{'ensembl_gene_id': 'ENSG00000148400', 'external_gene_name': 'NOTCH1', 'name_1006': ['Notch signaling pathway', 'aortic valve morphogenesis', 'cellular response to follicle-stimulating hormone stimulus', 'cellular response to tumor cell', 'cellular response to vascular endothelial growth factor stimulus'], 'chromosome_name': '9', 'start_position': '136494433', 'end_position': '136546048', 'strand': '-1', 'namespace_1003': 'biological_process', 'go_id': ['GO:0007219', 'GO:0003180', 'GO:0071372', 'GO:0071228', 'GO:0035924'], 'go_linkage_type': ['IDA', 'IMP']}, {'ensembl_gene_id': 'ENSG00000136869', 'external_gene_name': 'TLR4', 'name_1006': ['I-kappaB phosphorylation', 'MyD88-dependent toll-like receptor signaling pathway', 'cellular response to amyloid-beta', 'cellular response to lipopolysaccharide', 'cellular response to mechanical stimulus'], 'chromosome_name': '9', 'start_position': '117704175', 'end_position': '117724735', 'strand': '1', 'namespace_1003': 'biological_process', 'go_id': ['GO:0007252', 'GO:0002755', 'GO:1904646', 'GO:0071222', 'GO:0071260'], 'go_linkage_type': ['IDA', 'IEP']}]\n",
    "for gene in list:\n",
    "    gene[\"NCBI\"]"
   ]
  }
 ],
 "metadata": {
  "kernelspec": {
   "display_name": "genemind",
   "language": "python",
   "name": "python3"
  },
  "language_info": {
   "codemirror_mode": {
    "name": "ipython",
    "version": 3
   },
   "file_extension": ".py",
   "mimetype": "text/x-python",
   "name": "python",
   "nbconvert_exporter": "python",
   "pygments_lexer": "ipython3",
   "version": "3.11.13"
  }
 },
 "nbformat": 4,
 "nbformat_minor": 5
}
