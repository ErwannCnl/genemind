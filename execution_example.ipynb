{
 "cells": [
  {
   "cell_type": "code",
   "execution_count": 1,
   "id": "6f860d40",
   "metadata": {},
   "outputs": [],
   "source": [
    "from pydantic import BaseModel, Field\n",
    "from dotenv import load_dotenv\n",
    "import os\n",
    "\n",
    "# Load environment variables from .env file\n",
    "load_dotenv()\n",
    "GOOGLE_API_KEY = os.getenv(\"GOOGLE_API_KEY\")"
   ]
  },
  {
   "cell_type": "code",
<<<<<<< HEAD
   "execution_count": 10,
=======
   "execution_count": 14,
>>>>>>> 675b64669a2e8d878dc1c4ab563158d1fc086f89
   "id": "e9d6d903",
   "metadata": {},
   "outputs": [
    {
     "name": "stdout",
     "output_type": "stream",
     "text": [
      "{\n",
      "  \"genes\": [\n",
      "    \"TLR4\",\n",
      "    \"TLR2\",\n",
      "    \"IL1B\",\n",
      "    \"CCL14\"\n",
      "  ],\n",
      "  \"organism\": \"Homo sapiens\",\n",
      "  \"field_of_study\": \"cancer genomics\",\n",
      "  \"organ\": \"brain\",\n",
      "  \"analysis_type\": \"mutation enrichment analysis\",\n",
<<<<<<< HEAD
      "  \"GSEA\": false\n",
=======
      "  \"GSEA\": true\n",
>>>>>>> 675b64669a2e8d878dc1c4ab563158d1fc086f89
      "}\n"
     ]
    }
   ],
   "source": [
    "from typing import List, Optional\n",
    "from langchain_core.output_parsers import PydanticOutputParser\n",
    "from langchain_core.prompts import ChatPromptTemplate\n",
    "\n",
    "from langchain.chat_models import init_chat_model\n",
    "\n",
    "# Initialise LLM (Gemini 2.5)\n",
    "llm = init_chat_model(\n",
    "    model=\"gemini-2.5-flash\",\n",
    "    model_provider=\"google_genai\",\n",
    "    temperature=0.0\n",
    ")\n",
    "\n",
    "# Canonical user input\n",
    "paragraph = (\n",
<<<<<<< HEAD
    "    \"I identified these five genes to be significantly more mutated than expected by chance in my cohort of human brain cancer patients: TLR4, TLR2, IL1B, CCL14.\"\n",
=======
    "    \"I identified these five genes to be significantly more mutated than expected by chance in my cohort of human brain cancer patients: TP53, AKT3, EGFR, ATRX and PDX1. Do a GSEA\"\n",
>>>>>>> 675b64669a2e8d878dc1c4ab563158d1fc086f89
    ")\n",
    "\n",
    "# Define Pydantic class for input genes and context\n",
    "class StudyExtraction(BaseModel):\n",
    "    genes: List[str] = Field(\n",
    "        description=\"List of gene symbols mentioned in the text, normalized to official HGNC/NCBI-style symbols if possible.\"\n",
    "    )\n",
    "    organism: Optional[str] = Field(\n",
    "        description=\"Scientific name (binomial) of the organism (e.g., 'Homo sapiens', 'Mus musculus').\"\n",
    "    )\n",
    "    field_of_study: Optional[str] = Field(\n",
    "        description=\"High-level biomedical domain, e.g., 'oncology', 'cancer genomics', 'neuroscience', 'immunology', 'microbiology'.\"\n",
    "    )\n",
    "    organ: Optional[str] = Field(\n",
    "        description=\"Primary organ or tissue referenced (e.g., 'brain', 'liver', 'blood').\"\n",
    "    )\n",
    "    analysis_type: Optional[str] = Field(\n",
    "        description=\"Concise description of the analysis performed, e.g., 'differential expression', 'mutation enrichment', 'GWAS', 'copy-number analysis', 'metagenomic profiling'.\"\n",
    "    )\n",
    "    GSEA: bool = Field(default=False, \n",
    "                       description=\"Whether the user mentions that a GSEA is needed on the gene set. If no mention, keep it False.\")\n",
    "\n",
    "#alternative implementation to parse as pydantic more robustly\n",
    "parser = PydanticOutputParser(pydantic_object=StudyExtraction)\n",
    "format_instructions = parser.get_format_instructions()\n",
    "\n",
    "prompt = ChatPromptTemplate.from_messages([\n",
    "    (\"system\", \"Extract per schema:\\n{format_instructions}\"),\n",
    "    (\"human\", \"{paragraph}\"),\n",
    "]).partial(format_instructions=format_instructions)\n",
    "parsing_llm = prompt | llm | parser\n",
    "\n",
    "# pass raw user input \"paragraph\"\n",
    "parsed_input = parsing_llm.invoke({\"paragraph\": paragraph})\n",
    "#convert to JSON string\n",
    "json_output = parsed_input.model_dump_json(indent=2)\n",
    "print(json_output)\n",
    "\n",
    "#next step - inject the json to the LLM to determine attributes to fetch from BioMart\n"
   ]
  },
  {
   "cell_type": "code",
<<<<<<< HEAD
   "execution_count": 11,
   "id": "f0e73c7e",
   "metadata": {},
   "outputs": [
    {
     "name": "stdout",
     "output_type": "stream",
     "text": [
      "15\n",
      "biomart done\n",
      "NCBI done\n",
      "[{'ensembl_gene_id': 'ENSG00000125538', 'description': 'interleukin 1 beta [Source:HGNC Symbol;Acc:HGNC:5992]', 'chromosome_name': '2', 'start_position': '112829751', 'end_position': '112836816', 'strand': '-1', 'band': 'q14.1', 'external_gene_name': 'IL1B', 'transcript_count': '8', 'percentage_gene_gc_content': '45.51', 'gene_biotype': 'protein_coding', 'external_synonym': 'IL-1B', 'phenotype_description': 'GASTRIC CANCER GASTRIC CANCER INTESTINAL INCLUDED', 'name_1006': ['cellular response to mechanical stimulus', 'cellular response to xenobiotic stimulus', 'cytokine-mediated signaling pathway', 'defense response to Gram-positive bacterium', 'hyaluronan biosynthetic process'], 'namespace_1003': 'biological_process', 'go_id': ['GO:0071260', 'GO:0071466', 'GO:0019221', 'GO:0050830', 'GO:0030213'], 'go_linkage_type': ['IEP', 'IDA'], 'ncbi': 'Gene: IL1B (Homo sapiens)\\n\\n--- Summary ---\\nThe protein encoded by this gene is a member of the interleukin 1 cytokine family. This cytokine is produced by activated macrophages as a proprotein, which is proteolytically processed to its active form by caspase 1 (CASP1/ICE). This cytokine is an important mediator of the inflammatory response, and is involved in a variety of cellular activities, including cell proliferation, differentiation, and apoptosis. The induction of cyclooxygenase-2 (PTGS2/COX2) by this cytokine in the central nervous system (CNS) is found to contribute to inflammatory pain hypersensitivity. Similarly, IL-1B has been implicated in human osteoarthritis pathogenesis. Patients with severe Coronavirus Disease 2019 (COVID-19) present elevated levels of pro-inflammatory cytokines such as IL-1B in bronchial alveolar lavage fluid samples. The lung damage induced by the Severe acute respiratory syndrome coronavirus 2 (SARS-CoV-2) is to a large extent, a result of the inflammatory response promoted by cytokines such as IL-1B. This gene and eight other interleukin 1 family genes form a cytokine gene cluster on chromosome 2. [provided by RefSeq, Jul 2020]\\n\\n--- Representative Expression ---\\nSummary: Biased expression in bone marrow (RPKM 72.5), appendix (RPKM 32.9) and 12 other tissues\\nCategory: Biased expression\\nTissues: bone marrow, appendix, urinary bladder, gall bladder, brain, endometrium, spleen, stomach, lung, lymph node, placenta, colon, adrenal, liver'}, {'ensembl_gene_id': 'ENSG00000277236', 'description': 'C-C motif chemokine ligand 14 [Source:HGNC Symbol;Acc:HGNC:10612]', 'chromosome_name': 'HSCHR17_7_CTG4', 'start_position': '217855', 'end_position': '221568', 'strand': '-1', 'band': '', 'external_gene_name': 'CCL14', 'transcript_count': '4', 'percentage_gene_gc_content': '50.89', 'gene_biotype': 'protein_coding', 'external_synonym': 'CKB1', 'phenotype_description': '', 'name_1006': ['intracellular calcium ion homeostasis', 'positive regulation of cell population proliferation', 'antimicrobial humoral immune response mediated by antimicrobial peptide', 'cell chemotaxis', 'chemokine-mediated signaling pathway'], 'namespace_1003': 'biological_process', 'go_id': ['GO:0006874', 'GO:0008284', 'GO:0061844', 'GO:0060326', 'GO:0070098'], 'go_linkage_type': ['TAS', 'IBA'], 'ncbi': 'Gene: CCL14 (Homo sapiens)\\n\\n--- Summary ---\\nThis gene, chemokine (C-C motif) ligand 14, is one of several CC cytokine genes clustered on 17q11.2. The CC cytokines are secreted proteins characterized by two adjacent cysteines. The cytokine encoded by this gene induces changes in intracellular calcium concentration and enzyme release in monocytes. Multiple transcript variants encoding different isoforms have been found for this gene. Read-through transcripts are also expressed that include exons from the upstream cytokine gene, chemokine (C-C motif) ligand 15, and are represented as GeneID: 348249. [provided by RefSeq, Dec 2009]\\n\\n--- Representative Expression ---\\nSummary: Broad expression in spleen (RPKM 229.5), fat (RPKM 134.4) and 15 other tissues\\nCategory: Broad expression\\nTissues: spleen, fat, liver, gall bladder, urinary bladder, endometrium, lung, lymph node, skin, adrenal, prostate, esophagus, heart, small intestine, colon, thyroid, duodenum'}, {'ensembl_gene_id': 'ENSG00000136869', 'description': 'toll like receptor 4 [Source:HGNC Symbol;Acc:HGNC:11850]', 'chromosome_name': '9', 'start_position': '117704175', 'end_position': '117724735', 'strand': '1', 'band': 'q33.1', 'external_gene_name': 'TLR4', 'transcript_count': '4', 'percentage_gene_gc_content': '38.47', 'gene_biotype': 'protein_coding', 'external_synonym': 'ARMD10', 'phenotype_description': 'Behcet disease', 'name_1006': ['I-kappaB phosphorylation', 'MyD88-dependent toll-like receptor signaling pathway', 'cellular response to amyloid-beta', 'cellular response to lipopolysaccharide', 'cellular response to mechanical stimulus'], 'namespace_1003': 'biological_process', 'go_id': ['GO:0007252', 'GO:0002755', 'GO:1904646', 'GO:0071222', 'GO:0071260'], 'go_linkage_type': ['IDA', 'IEP'], 'ncbi': 'Gene: TLR4 (Homo sapiens)\\n\\n--- Summary ---\\nThe protein encoded by this gene is a member of the Toll-like receptor (TLR) family which plays a fundamental role in pathogen recognition and activation of innate immunity. TLRs are highly conserved from Drosophila to humans and share structural and functional similarities. They recognize pathogen-associated molecular patterns that are expressed on infectious agents, and mediate the production of cytokines necessary for the development of effective immunity. The various TLRs exhibit different patterns of expression. In silico studies have found a particularly strong binding of surface TLR4 with the spike protein of severe acute respiratory syndrome coronavirus 2 (SARS-CoV-2), the causative agent of Coronavirus disease-2019 (COVID-19). This receptor has also been implicated in signal transduction events induced by lipopolysaccharide (LPS) found in most gram-negative bacteria. Mutations in this gene have been associated with differences in LPS responsiveness, and with susceptibility to age-related macular degeneration. Multiple transcript variants encoding different isoforms have been found for this gene. [provided by RefSeq, Aug 2020]\\n\\n--- Representative Expression ---\\nSummary: Broad expression in spleen (RPKM 17.1), appendix (RPKM 15.6) and 22 other tissues\\nCategory: Broad expression\\nTissues: spleen, appendix, fat, placenta, lung, bone marrow, urinary bladder, adrenal, lymph node, gall bladder, brain, colon, liver, kidney, thyroid, ovary, heart, small intestine, endometrium, esophagus, prostate, stomach, duodenum, testis'}, {'ensembl_gene_id': 'ENSG00000276409', 'description': 'C-C motif chemokine ligand 14 [Source:HGNC Symbol;Acc:HGNC:10612]', 'chromosome_name': '17', 'start_position': '35983288', 'end_position': '35987004', 'strand': '-1', 'band': 'q12', 'external_gene_name': 'CCL14', 'transcript_count': '4', 'percentage_gene_gc_content': '50.85', 'gene_biotype': 'protein_coding', 'external_synonym': 'CKB1', 'phenotype_description': '', 'name_1006': ['intracellular calcium ion homeostasis', 'positive regulation of cell population proliferation', 'antimicrobial humoral immune response mediated by antimicrobial peptide', 'cell chemotaxis', 'chemokine-mediated signaling pathway'], 'namespace_1003': 'biological_process', 'go_id': ['GO:0006874', 'GO:0008284', 'GO:0061844', 'GO:0060326', 'GO:0070098'], 'go_linkage_type': ['TAS', 'IBA'], 'ncbi': 'Gene: CCL14 (Homo sapiens)\\n\\n--- Summary ---\\nThis gene, chemokine (C-C motif) ligand 14, is one of several CC cytokine genes clustered on 17q11.2. The CC cytokines are secreted proteins characterized by two adjacent cysteines. The cytokine encoded by this gene induces changes in intracellular calcium concentration and enzyme release in monocytes. Multiple transcript variants encoding different isoforms have been found for this gene. Read-through transcripts are also expressed that include exons from the upstream cytokine gene, chemokine (C-C motif) ligand 15, and are represented as GeneID: 348249. [provided by RefSeq, Dec 2009]\\n\\n--- Representative Expression ---\\nSummary: Broad expression in spleen (RPKM 229.5), fat (RPKM 134.4) and 15 other tissues\\nCategory: Broad expression\\nTissues: spleen, fat, liver, gall bladder, urinary bladder, endometrium, lung, lymph node, skin, adrenal, prostate, esophagus, heart, small intestine, colon, thyroid, duodenum'}, {'ensembl_gene_id': 'ENSG00000137462', 'description': 'toll like receptor 2 [Source:HGNC Symbol;Acc:HGNC:11848]', 'chromosome_name': '4', 'start_position': '153684050', 'end_position': '153706260', 'strand': '1', 'band': 'q31.3', 'external_gene_name': 'TLR2', 'transcript_count': '14', 'percentage_gene_gc_content': '38.85', 'gene_biotype': 'protein_coding', 'external_synonym': 'CD282', 'phenotype_description': 'Colorectal Cancer', 'name_1006': ['I-kappaB phosphorylation', 'cellular response to diacyl bacterial lipopeptide', 'cellular response to lipoteichoic acid', 'cellular response to triacyl bacterial lipopeptide', 'cellular response to type II interferon'], 'namespace_1003': 'biological_process', 'go_id': ['GO:0007252', 'GO:0071726', 'GO:0071223', 'GO:0071727', 'GO:0071346'], 'go_linkage_type': 'IDA', 'ncbi': \"Gene: TLR2 (Homo sapiens)\\n\\n--- Summary ---\\nThe protein encoded by this gene is a member of the Toll-like receptor (TLR) family which plays a fundamental role in pathogen recognition and activation of innate immunity. TLRs are highly conserved from Drosophila to humans and share structural and functional similarities. This protein is a cell-surface protein that can form heterodimers with other TLR family members to recognize conserved molecules derived from microorganisms known as pathogen-associated molecular patterns (PAMPs). Activation of TLRs by PAMPs leads to an up-regulation of signaling pathways to modulate the host's inflammatory response. This gene is also thought to promote apoptosis in response to bacterial lipoproteins. This gene has been implicated in the pathogenesis of several autoimmune diseases. Alternative splicing results in multiple transcript variants. [provided by RefSeq, Jan 2016]\\n\\n--- Representative Expression ---\\nSummary: Broad expression in appendix (RPKM 15.9), bone marrow (RPKM 12.6) and 18 other tissues\\nCategory: Broad expression\\nTissues: appendix, bone marrow, lung, spleen, gall bladder, adrenal, urinary bladder, placenta, lymph node, esophagus, salivary gland, stomach, colon, thyroid, small intestine, fat, brain, kidney, duodenum, endometrium\"}]\n"
     ]
    }
   ],
=======
   "execution_count": null,
   "id": "f0e73c7e",
   "metadata": {},
   "outputs": [],
>>>>>>> 675b64669a2e8d878dc1c4ab563158d1fc086f89
   "source": [
    "from src.querries_script import group_by_gene_dynamic, fill_with_ncbi, call_querry_biomart\n",
    "import pandas as pd    \n",
    "\n",
    "attributes = pd.read_csv(\"data/attributes.csv\")[\"name\"].to_list()[:15]\n",
    "print(len(attributes))\n",
    "    \n",
    "output = call_querry_biomart(attributes=attributes,\n",
    "                            filters={\"external_gene_name\": parsed_input.genes})\n",
    "\n",
<<<<<<< HEAD
    "print(\"biomart done\")\n",
=======
    "output = call_querry_biomart(attributes=attributes[:15],\n",
    "                            filters={\"external_gene_name\": parsed_input.genes})\n",
>>>>>>> 675b64669a2e8d878dc1c4ab563158d1fc086f89
    "\n",
    "output = group_by_gene_dynamic(output)\n",
    "\n",
    "output = fill_with_ncbi(output)\n",
    "\n",
    "print(\"NCBI done\")\n",
    "\n",
    "print(output)"
   ]
  },
  {
   "cell_type": "code",
   "execution_count": 20,
   "id": "a1f5fc12",
   "metadata": {},
   "outputs": [],
   "source": [
    "from typing import List\n",
    "from gseapy import enrichr\n",
    "\n",
    "def enrichr_query(gene_list: list):\n",
    "    \"\"\"Run enrichment analysis on a list of genes.\n",
    "\n",
    "    This tool allows to run enrichment analysis on a list of genes using the `gseapy` library.\n",
    "    Using this tool, a model can get information about the biological processes enriched in a set of genes.\n",
    "\n",
    "    Args:\n",
    "        gene_list: list of genes to run enrichment analysis on\n",
    "\n",
    "    Returns:\n",
    "        DataFrame: DataFrame containing the enrichment results\n",
    "    \"\"\"\n",
    "    # Run enrichment\n",
    "    enr = enrichr(\n",
    "        gene_list=gene_list,\n",
    "        gene_sets='GO_Biological_Process_2021',\n",
    "        organism='Human',\n",
    "        outdir=None,  # no files will be written\n",
    "        cutoff=0.05\n",
    "    )\n",
    "\n",
    "    # Save results as DataFrame\n",
    "    df_results = enr.results\n",
    "\n",
    "    return df_results"
   ]
  },
  {
   "cell_type": "code",
   "execution_count": 43,
   "id": "4a76ef36",
   "metadata": {},
   "outputs": [],
   "source": [
    "if parsed_input.GSEA: \n",
    "    tool_results = enrichr_query(parsed_input.genes)\n",
    "\n",
    "        # Optionally, format or reduce the output for readability (e.g., top rows)\n",
    "    if not tool_results.empty:\n",
    "        # Filter rows where Adjusted P-value < 0.05\n",
    "        filtered_df = tool_results[tool_results[\"Adjusted P-value\"] < 0.05]\n",
    "\n",
    "        # Drop the 'Gene_set' column\n",
    "        filtered_df = filtered_df.drop(columns=[\"Gene_set\",\"Old P-value\",\"Old Adjusted P-value\"])\n",
    "        gsea_string = \"the results of gene set enrichment are:\\n \"+ filtered_df.head(20).to_string(index = False)\n",
    "        # Show the top rows\n",
    "        # print(gsea_string)"
   ]
  },
  {
   "cell_type": "code",
   "execution_count": null,
   "id": "e15cf051",
   "metadata": {},
   "outputs": [],
   "source": [
    "from langchain_core.output_parsers import StrOutputParser\n",
    "\n",
    "text = str(output)\n",
    "\n",
    "task ='''\n",
    "<task>\n",
    "You are a helpful and biological expert specializing in integrating and interpreting gene-related data from the given information report, combined with the knowledge you have obtained during your training.\n",
    "When given a report on a set of genes, summarize the key insights for each gene. The final and most important job is to concisely contextualise the user's findings with biological or biomedical background knowledge and find commonalities between the genes given. Stay to-the-point and scientifically accurate. Tailor the response to the context given by the client.\n",
    "Think hard!\n",
    "</task>\n",
    "'''\n",
    "\n",
    "user_prompt = \"I want to know more about these genes {input_g}. They were obtained after {analyses} in {organism}. All information I know about these genes is the following: {text} \\n Do you find any commonalities or interesting findings about these genes? I'm mainly interested in {context}\"\n",
    "if parsed_input.GSEA:\n",
    "    user_prompt += gsea_string\n",
    "    \n",
    "prompt = ChatPromptTemplate.from_messages([\n",
    "    (\"system\", task),\n",
    "    (\"user\", user_prompt)\n",
    "])\n",
    "chain = prompt | llm | StrOutputParser()\n",
    "response = chain.invoke({\"text\": text, \"input_g\": parsed_input.genes, \"context\": parsed_input.field_of_study, \"analyses\": parsed_input.analysis_type, \"organism\": parsed_input.organism})\n",
    "print(response)"
   ]
  }
 ],
 "metadata": {
  "kernelspec": {
   "display_name": "ml-summerschool-2025",
   "language": "python",
   "name": "python3"
  },
  "language_info": {
   "codemirror_mode": {
    "name": "ipython",
    "version": 3
   },
   "file_extension": ".py",
   "mimetype": "text/x-python",
   "name": "python",
   "nbconvert_exporter": "python",
   "pygments_lexer": "ipython3",
   "version": "3.12.3"
  }
 },
 "nbformat": 4,
 "nbformat_minor": 5
}
