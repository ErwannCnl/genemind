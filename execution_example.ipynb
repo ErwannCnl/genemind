{
 "cells": [
  {
   "cell_type": "code",
   "execution_count": 3,
   "id": "6f860d40",
   "metadata": {},
   "outputs": [],
   "source": [
    "from pydantic import BaseModel, Field\n",
    "from dotenv import load_dotenv\n",
    "import os\n",
    "\n",
    "# Load environment variables from .env file\n",
    "load_dotenv()\n",
    "GOOGLE_API_KEY = os.getenv(\"GOOGLE_API_KEY\")"
   ]
  },
  {
   "cell_type": "code",
   "execution_count": null,
   "id": "e9d6d903",
   "metadata": {},
   "outputs": [
    {
     "name": "stdout",
     "output_type": "stream",
     "text": [
      "{\n",
      "  \"genes\": [\n",
      "    \"TP53\",\n",
      "    \"AKT3\",\n",
      "    \"EGFR\",\n",
      "    \"ATRX\",\n",
      "    \"PDX1\"\n",
      "  ],\n",
      "  \"organism\": \"Homo sapiens\",\n",
      "  \"field_of_study\": \"oncology\",\n",
      "  \"organ\": \"brain\",\n",
      "  \"analysis_type\": \"mutation enrichment\"\n",
      "}\n"
     ]
    }
   ],
   "source": [
    "from typing import List, Optional\n",
    "from langchain_core.output_parsers import PydanticOutputParser\n",
    "from langchain_core.prompts import ChatPromptTemplate\n",
    "\n",
    "from langchain.chat_models import init_chat_model\n",
    "\n",
    "# Initialise LLM (Gemini 2.5)\n",
    "llm = init_chat_model(\n",
    "    model=\"gemini-2.5-flash\",\n",
    "    model_provider=\"google_genai\",\n",
    "    temperature=0.0\n",
    ")\n",
    "\n",
    "# Canonical user input\n",
    "paragraph = (\n",
    "    \"I identified these five genes to be significantly more mutated than expected by chance in my cohort of human brain cancer patients: TP53, AKT3, EGFR, ATRX and PDX1.\"\n",
    ")\n",
    "\n",
    "# Define Pydantic class for input genes and context\n",
    "class StudyExtraction(BaseModel):\n",
    "    genes: List[str] = Field(\n",
    "        description=\"List of gene symbols mentioned in the text, normalized to official HGNC/NCBI-style symbols if possible.\"\n",
    "    )\n",
    "    organism: Optional[str] = Field(\n",
    "        description=\"Scientific name (binomial) of the organism (e.g., 'Homo sapiens', 'Mus musculus').\"\n",
    "    )\n",
    "    field_of_study: Optional[str] = Field(\n",
    "        description=\"High-level biomedical domain, e.g., 'oncology', 'cancer genomics', 'neuroscience', 'immunology', 'microbiology'.\"\n",
    "    )\n",
    "    organ: Optional[str] = Field(\n",
    "        description=\"Primary organ or tissue referenced (e.g., 'brain', 'liver', 'blood').\"\n",
    "    )\n",
    "    analysis_type: Optional[str] = Field(\n",
    "        description=\"Concise description of the analysis performed, e.g., 'differential expression', 'mutation enrichment', 'GWAS', 'copy-number analysis', 'metagenomic profiling'.\"\n",
    "    )\n",
    "    GSEA: bool = Field(default=False, \n",
    "                       description=\"Whether the user mentions that a GSEA is needed on the gene set. If no mention, keep it False.\")\n",
    "\n",
    "#alternative implementation to parse as pydantic more robustly\n",
    "parser = PydanticOutputParser(pydantic_object=StudyExtraction)\n",
    "format_instructions = parser.get_format_instructions()\n",
    "\n",
    "prompt = ChatPromptTemplate.from_messages([\n",
    "    (\"system\", \"Extract per schema:\\n{format_instructions}\"),\n",
    "    (\"human\", \"{paragraph}\"),\n",
    "]).partial(format_instructions=format_instructions)\n",
    "parsing_llm = prompt | llm | parser\n",
    "\n",
    "# pass raw user input \"paragraph\"\n",
    "parsed_input = parsing_llm.invoke({\"paragraph\": paragraph})\n",
    "#convert to JSON string\n",
    "json_output = parsed_input.model_dump_json(indent=2)\n",
    "print(json_output)\n",
    "\n",
    "#next step - inject the json to the LLM to determine attributes to fetch from BioMart\n"
   ]
  },
  {
   "cell_type": "code",
   "execution_count": 6,
   "id": "f0e73c7e",
   "metadata": {},
   "outputs": [
    {
     "name": "stdout",
     "output_type": "stream",
     "text": [
      "[{'ensembl_gene_id': 'ENSG00000148400', 'description': 'notch receptor 1 [Source:HGNC Symbol;Acc:HGNC:7881]', 'chromosome_name': '9', 'start_position': '136494433', 'end_position': '136546048', 'strand': '-1', 'band': 'q34.3', 'external_gene_name': 'NOTCH1', 'transcript_count': '16', 'percentage_gene_gc_content': '63.46', 'gene_biotype': 'protein_coding', 'external_synonym': 'TAN1', 'phenotype_description': 'Adams-Oliver syndrome', 'name_1006': ['Notch signaling pathway', 'aortic valve morphogenesis', 'cellular response to follicle-stimulating hormone stimulus', 'cellular response to tumor cell', 'cellular response to vascular endothelial growth factor stimulus'], 'namespace_1003': 'biological_process', 'go_id': ['GO:0007219', 'GO:0003180', 'GO:0071372', 'GO:0071228', 'GO:0035924'], 'go_linkage_type': ['IDA', 'IMP'], 'ncbi': 'Gene: NOTCH1 (Homo sapiens)\\n\\n--- Summary ---\\nThis gene encodes a member of the NOTCH family of proteins. Members of this Type I transmembrane protein family share structural characteristics including an extracellular domain consisting of multiple epidermal growth factor-like (EGF) repeats, and an intracellular domain consisting of multiple different domain types. Notch signaling is an evolutionarily conserved intercellular signaling pathway that regulates interactions between physically adjacent cells through binding of Notch family receptors to their cognate ligands. The encoded preproprotein is proteolytically processed in the trans-Golgi network to generate two polypeptide chains that heterodimerize to form the mature cell-surface receptor. This receptor plays a role in the development of numerous cell and tissue types. Mutations in this gene are associated with aortic valve disease, Adams-Oliver syndrome, T-cell acute lymphoblastic leukemia, chronic lymphocytic leukemia, and head and neck squamous cell carcinoma. [provided by RefSeq, Jan 2016]\\n\\n--- Representative Expression ---\\nSummary: Ubiquitous expression in fat (RPKM 9.4), spleen (RPKM 9.4) and 25 other tissues\\nCategory: Ubiquitous expression\\nTissues: fat, spleen, skin, brain, lung, colon, appendix, prostate, kidney, bone marrow, endometrium, urinary bladder, lymph node, placenta, gall bladder, small intestine, duodenum, salivary gland, esophagus, heart, thyroid, stomach, testis, pancreas, liver, adrenal, ovary'}, {'ensembl_gene_id': 'ENSG00000136869', 'description': 'toll like receptor 4 [Source:HGNC Symbol;Acc:HGNC:11850]', 'chromosome_name': '9', 'start_position': '117704175', 'end_position': '117724735', 'strand': '1', 'band': 'q33.1', 'external_gene_name': 'TLR4', 'transcript_count': '4', 'percentage_gene_gc_content': '38.47', 'gene_biotype': 'protein_coding', 'external_synonym': 'ARMD10', 'phenotype_description': 'Behcet disease', 'name_1006': ['I-kappaB phosphorylation', 'MyD88-dependent toll-like receptor signaling pathway', 'cellular response to amyloid-beta', 'cellular response to lipopolysaccharide', 'cellular response to mechanical stimulus'], 'namespace_1003': 'biological_process', 'go_id': ['GO:0007252', 'GO:0002755', 'GO:1904646', 'GO:0071222', 'GO:0071260'], 'go_linkage_type': ['IDA', 'IEP'], 'ncbi': 'Gene: TLR4 (Homo sapiens)\\n\\n--- Summary ---\\nThe protein encoded by this gene is a member of the Toll-like receptor (TLR) family which plays a fundamental role in pathogen recognition and activation of innate immunity. TLRs are highly conserved from Drosophila to humans and share structural and functional similarities. They recognize pathogen-associated molecular patterns that are expressed on infectious agents, and mediate the production of cytokines necessary for the development of effective immunity. The various TLRs exhibit different patterns of expression. In silico studies have found a particularly strong binding of surface TLR4 with the spike protein of severe acute respiratory syndrome coronavirus 2 (SARS-CoV-2), the causative agent of Coronavirus disease-2019 (COVID-19). This receptor has also been implicated in signal transduction events induced by lipopolysaccharide (LPS) found in most gram-negative bacteria. Mutations in this gene have been associated with differences in LPS responsiveness, and with susceptibility to age-related macular degeneration. Multiple transcript variants encoding different isoforms have been found for this gene. [provided by RefSeq, Aug 2020]\\n\\n--- Representative Expression ---\\nSummary: Broad expression in spleen (RPKM 17.1), appendix (RPKM 15.6) and 22 other tissues\\nCategory: Broad expression\\nTissues: spleen, appendix, fat, placenta, lung, bone marrow, urinary bladder, adrenal, lymph node, gall bladder, brain, colon, liver, kidney, thyroid, ovary, heart, small intestine, endometrium, esophagus, prostate, stomach, duodenum, testis'}]\n"
     ]
    }
   ],
   "source": [
    "from src.querries_script import group_by_gene_dynamic, fill_with_ncbi, call_querry_biomart\n",
    "import pandas as pd    \n",
    "\n",
    "attributes = pd.read_csv(\"data/attributes.csv\")[\"name\"].to_list()\n",
    "\n",
    "output = call_querry_biomart(attributes=attributes[:15],\n",
    "                            filters={\"external_gene_name\": [\"TLR4\", \"NOTCH1\"]})\n",
    "\n",
    "output = group_by_gene_dynamic(output)\n",
    "\n",
    "output = fill_with_ncbi(output)\n",
    "\n",
    "print(output)"
   ]
  },
  {
   "cell_type": "code",
   "execution_count": null,
   "id": "774d36d6",
   "metadata": {},
   "outputs": [],
   "source": []
  }
 ],
 "metadata": {
  "kernelspec": {
   "display_name": "genemind",
   "language": "python",
   "name": "python3"
  },
  "language_info": {
   "codemirror_mode": {
    "name": "ipython",
    "version": 3
   },
   "file_extension": ".py",
   "mimetype": "text/x-python",
   "name": "python",
   "nbconvert_exporter": "python",
   "pygments_lexer": "ipython3",
   "version": "3.11.13"
  }
 },
 "nbformat": 4,
 "nbformat_minor": 5
}
